{
 "cells": [
  {
   "cell_type": "code",
   "execution_count": 35,
   "metadata": {},
   "outputs": [],
   "source": [
    "import matplotlib.pyplot as plt\n",
    "import pandas as pd\n",
    "import scipy.stats as st\n",
    "from scipy.stats import linregress\n",
    "import numpy as np"
   ]
  },
  {
   "cell_type": "code",
   "execution_count": 11,
   "metadata": {},
   "outputs": [
    {
     "data": {
      "text/html": [
       "<div>\n",
       "<style scoped>\n",
       "    .dataframe tbody tr th:only-of-type {\n",
       "        vertical-align: middle;\n",
       "    }\n",
       "\n",
       "    .dataframe tbody tr th {\n",
       "        vertical-align: top;\n",
       "    }\n",
       "\n",
       "    .dataframe thead th {\n",
       "        text-align: right;\n",
       "    }\n",
       "</style>\n",
       "<table border=\"1\" class=\"dataframe\">\n",
       "  <thead>\n",
       "    <tr style=\"text-align: right;\">\n",
       "      <th></th>\n",
       "      <th>DATAFLOW</th>\n",
       "      <th>MEASURE: Type of Visa</th>\n",
       "      <th>MIGRATIONTYPE: Migration Type</th>\n",
       "      <th>REGION: Region</th>\n",
       "      <th>FREQ: Frequency</th>\n",
       "      <th>TIME_PERIOD: Time Period</th>\n",
       "      <th>OBS_VALUE</th>\n",
       "      <th>UNIT_MEASURE: Unit of Measure</th>\n",
       "      <th>OBS_STATUS: Observation Status</th>\n",
       "      <th>OBS_COMMENT: Observation Comment</th>\n",
       "      <th>REPYEAREND: Reporting Year End Day</th>\n",
       "    </tr>\n",
       "  </thead>\n",
       "  <tbody>\n",
       "    <tr>\n",
       "      <th>0</th>\n",
       "      <td>ABS:ABS_NOM_VISA_FY(1.0.0)</td>\n",
       "      <td>2: Temporary visa - Vocational Education and T...</td>\n",
       "      <td>1: NOM arrivals</td>\n",
       "      <td>2: Victoria</td>\n",
       "      <td>A: Annual</td>\n",
       "      <td>2005</td>\n",
       "      <td>2300</td>\n",
       "      <td>PSNS: Persons</td>\n",
       "      <td>NaN</td>\n",
       "      <td>NaN</td>\n",
       "      <td>30-6: Year Ending 30 June</td>\n",
       "    </tr>\n",
       "    <tr>\n",
       "      <th>1</th>\n",
       "      <td>ABS:ABS_NOM_VISA_FY(1.0.0)</td>\n",
       "      <td>2: Temporary visa - Vocational Education and T...</td>\n",
       "      <td>1: NOM arrivals</td>\n",
       "      <td>2: Victoria</td>\n",
       "      <td>A: Annual</td>\n",
       "      <td>2006</td>\n",
       "      <td>3630</td>\n",
       "      <td>PSNS: Persons</td>\n",
       "      <td>NaN</td>\n",
       "      <td>NaN</td>\n",
       "      <td>30-6: Year Ending 30 June</td>\n",
       "    </tr>\n",
       "  </tbody>\n",
       "</table>\n",
       "</div>"
      ],
      "text/plain": [
       "                     DATAFLOW  \\\n",
       "0  ABS:ABS_NOM_VISA_FY(1.0.0)   \n",
       "1  ABS:ABS_NOM_VISA_FY(1.0.0)   \n",
       "\n",
       "                               MEASURE: Type of Visa  \\\n",
       "0  2: Temporary visa - Vocational Education and T...   \n",
       "1  2: Temporary visa - Vocational Education and T...   \n",
       "\n",
       "  MIGRATIONTYPE: Migration Type REGION: Region FREQ: Frequency  \\\n",
       "0               1: NOM arrivals    2: Victoria       A: Annual   \n",
       "1               1: NOM arrivals    2: Victoria       A: Annual   \n",
       "\n",
       "   TIME_PERIOD: Time Period  OBS_VALUE UNIT_MEASURE: Unit of Measure  \\\n",
       "0                      2005       2300                 PSNS: Persons   \n",
       "1                      2006       3630                 PSNS: Persons   \n",
       "\n",
       "   OBS_STATUS: Observation Status  OBS_COMMENT: Observation Comment  \\\n",
       "0                             NaN                               NaN   \n",
       "1                             NaN                               NaN   \n",
       "\n",
       "  REPYEAREND: Reporting Year End Day  \n",
       "0          30-6: Year Ending 30 June  \n",
       "1          30-6: Year Ending 30 June  "
      ]
     },
     "execution_count": 11,
     "metadata": {},
     "output_type": "execute_result"
    }
   ],
   "source": [
    "visa_data_df = pd.read_csv(\"ABS_NOM_VISA.csv\")\n",
    "visa_data_df.head(2)"
   ]
  },
  {
   "cell_type": "code",
   "execution_count": 12,
   "metadata": {},
   "outputs": [
    {
     "data": {
      "text/plain": [
       "array(['2: Victoria', '5: Western Australia', 'AUS: Australia',\n",
       "       '8: Australian Capital Territory', '7: Northern Territory',\n",
       "       '3: Queensland', '6: Tasmania', '1: New South Wales',\n",
       "       '4: South Australia'], dtype=object)"
      ]
     },
     "execution_count": 12,
     "metadata": {},
     "output_type": "execute_result"
    }
   ],
   "source": [
    "region = visa_data_df[\"REGION: Region\"].unique()\n",
    "region"
   ]
  },
  {
   "cell_type": "code",
   "execution_count": 13,
   "metadata": {},
   "outputs": [],
   "source": [
    "#Cleaning Dataset \n",
    "#Drop all the rows from Australia\n",
    "\n",
    "region_to_drop = 'AUS: Australia'\n",
    "clean_visa_region_df = visa_data_df[visa_data_df[\"REGION: Region\"] != region_to_drop]\n",
    "clean_visa_region_df.head(2)\n",
    "\n",
    "#Convert column \"Time Period\" to Date Format\n",
    "df = pd.DataFrame(clean_visa_region_df)\n",
    "df[\"date\"] = pd.to_datetime(df[\"TIME_PERIOD: Time Period\"].astype(str), format=\"%Y\")"
   ]
  },
  {
   "cell_type": "code",
   "execution_count": 14,
   "metadata": {},
   "outputs": [],
   "source": [
    "#Get Unique Types of Visa and Years into the Dataset\n",
    "type_visa = clean_visa_region_df[\"MEASURE: Type of Visa\"].unique()\n",
    "year = clean_visa_region_df[\"TIME_PERIOD: Time Period\"].unique()"
   ]
  },
  {
   "cell_type": "code",
   "execution_count": 15,
   "metadata": {},
   "outputs": [
    {
     "data": {
      "text/html": [
       "<div>\n",
       "<style scoped>\n",
       "    .dataframe tbody tr th:only-of-type {\n",
       "        vertical-align: middle;\n",
       "    }\n",
       "\n",
       "    .dataframe tbody tr th {\n",
       "        vertical-align: top;\n",
       "    }\n",
       "\n",
       "    .dataframe thead th {\n",
       "        text-align: right;\n",
       "    }\n",
       "</style>\n",
       "<table border=\"1\" class=\"dataframe\">\n",
       "  <thead>\n",
       "    <tr style=\"text-align: right;\">\n",
       "      <th></th>\n",
       "      <th>DATAFLOW</th>\n",
       "      <th>MEASURE: Type of Visa</th>\n",
       "      <th>MIGRATIONTYPE: Migration Type</th>\n",
       "      <th>REGION: Region</th>\n",
       "      <th>FREQ: Frequency</th>\n",
       "      <th>TIME_PERIOD: Time Period</th>\n",
       "      <th>OBS_VALUE</th>\n",
       "      <th>UNIT_MEASURE: Unit of Measure</th>\n",
       "      <th>OBS_STATUS: Observation Status</th>\n",
       "      <th>OBS_COMMENT: Observation Comment</th>\n",
       "      <th>REPYEAREND: Reporting Year End Day</th>\n",
       "      <th>date</th>\n",
       "    </tr>\n",
       "  </thead>\n",
       "  <tbody>\n",
       "    <tr>\n",
       "      <th>0</th>\n",
       "      <td>ABS:ABS_NOM_VISA_FY(1.0.0)</td>\n",
       "      <td>2: Temporary visa - Vocational Education and T...</td>\n",
       "      <td>1: NOM arrivals</td>\n",
       "      <td>2: Victoria</td>\n",
       "      <td>A: Annual</td>\n",
       "      <td>2005</td>\n",
       "      <td>2300</td>\n",
       "      <td>PSNS: Persons</td>\n",
       "      <td>NaN</td>\n",
       "      <td>NaN</td>\n",
       "      <td>30-6: Year Ending 30 June</td>\n",
       "      <td>2005-01-01</td>\n",
       "    </tr>\n",
       "  </tbody>\n",
       "</table>\n",
       "</div>"
      ],
      "text/plain": [
       "                     DATAFLOW  \\\n",
       "0  ABS:ABS_NOM_VISA_FY(1.0.0)   \n",
       "\n",
       "                               MEASURE: Type of Visa  \\\n",
       "0  2: Temporary visa - Vocational Education and T...   \n",
       "\n",
       "  MIGRATIONTYPE: Migration Type REGION: Region FREQ: Frequency  \\\n",
       "0               1: NOM arrivals    2: Victoria       A: Annual   \n",
       "\n",
       "   TIME_PERIOD: Time Period  OBS_VALUE UNIT_MEASURE: Unit of Measure  \\\n",
       "0                      2005       2300                 PSNS: Persons   \n",
       "\n",
       "   OBS_STATUS: Observation Status  OBS_COMMENT: Observation Comment  \\\n",
       "0                             NaN                               NaN   \n",
       "\n",
       "  REPYEAREND: Reporting Year End Day       date  \n",
       "0          30-6: Year Ending 30 June 2005-01-01  "
      ]
     },
     "execution_count": 15,
     "metadata": {},
     "output_type": "execute_result"
    }
   ],
   "source": [
    "#Remove from Type of Visas all what includes \"Totals\"\n",
    "values_to_remove = [\"1: Temporary visa - Total\", \"16: Total\", \"9: Permanent visa - Total\"]\n",
    "\n",
    "mask = df[\"MEASURE: Type of Visa\"].isin(values_to_remove)\n",
    "\n",
    "clean_visa_type_df = df[~mask]\n",
    "clean_visa_type_df.head(1)"
   ]
  },
  {
   "cell_type": "code",
   "execution_count": 16,
   "metadata": {},
   "outputs": [],
   "source": [
    "#Filter out all results from years before 2012\n",
    "year_type = clean_visa_type_df[clean_visa_type_df[\"date\"] >= '2012-01-01']"
   ]
  },
  {
   "cell_type": "code",
   "execution_count": 51,
   "metadata": {},
   "outputs": [
    {
     "data": {
      "text/html": [
       "<div>\n",
       "<style scoped>\n",
       "    .dataframe tbody tr th:only-of-type {\n",
       "        vertical-align: middle;\n",
       "    }\n",
       "\n",
       "    .dataframe tbody tr th {\n",
       "        vertical-align: top;\n",
       "    }\n",
       "\n",
       "    .dataframe thead th {\n",
       "        text-align: right;\n",
       "    }\n",
       "</style>\n",
       "<table border=\"1\" class=\"dataframe\">\n",
       "  <thead>\n",
       "    <tr style=\"text-align: right;\">\n",
       "      <th></th>\n",
       "      <th>TIME_PERIOD: Time Period</th>\n",
       "      <th>REGION: Region</th>\n",
       "      <th>MEASURE: Type of Visa</th>\n",
       "      <th>OBS_VALUE</th>\n",
       "    </tr>\n",
       "  </thead>\n",
       "  <tbody>\n",
       "    <tr>\n",
       "      <th>0</th>\n",
       "      <td>2012</td>\n",
       "      <td>1: New South Wales</td>\n",
       "      <td>10: Permanent visa - Family</td>\n",
       "      <td>13120</td>\n",
       "    </tr>\n",
       "    <tr>\n",
       "      <th>1</th>\n",
       "      <td>2012</td>\n",
       "      <td>1: New South Wales</td>\n",
       "      <td>11: Permanent visa - Skill</td>\n",
       "      <td>9440</td>\n",
       "    </tr>\n",
       "    <tr>\n",
       "      <th>2</th>\n",
       "      <td>2012</td>\n",
       "      <td>1: New South Wales</td>\n",
       "      <td>12: Permanent visa - Special Eligibility and h...</td>\n",
       "      <td>2030</td>\n",
       "    </tr>\n",
       "    <tr>\n",
       "      <th>3</th>\n",
       "      <td>2012</td>\n",
       "      <td>1: New South Wales</td>\n",
       "      <td>13: New Zealand Citizen (subclass 444)</td>\n",
       "      <td>11680</td>\n",
       "    </tr>\n",
       "    <tr>\n",
       "      <th>4</th>\n",
       "      <td>2012</td>\n",
       "      <td>1: New South Wales</td>\n",
       "      <td>14: Australian Citizen</td>\n",
       "      <td>27090</td>\n",
       "    </tr>\n",
       "  </tbody>\n",
       "</table>\n",
       "</div>"
      ],
      "text/plain": [
       "   TIME_PERIOD: Time Period      REGION: Region  \\\n",
       "0                      2012  1: New South Wales   \n",
       "1                      2012  1: New South Wales   \n",
       "2                      2012  1: New South Wales   \n",
       "3                      2012  1: New South Wales   \n",
       "4                      2012  1: New South Wales   \n",
       "\n",
       "                               MEASURE: Type of Visa  OBS_VALUE  \n",
       "0                        10: Permanent visa - Family      13120  \n",
       "1                         11: Permanent visa - Skill       9440  \n",
       "2  12: Permanent visa - Special Eligibility and h...       2030  \n",
       "3             13: New Zealand Citizen (subclass 444)      11680  \n",
       "4                             14: Australian Citizen      27090  "
      ]
     },
     "execution_count": 51,
     "metadata": {},
     "output_type": "execute_result"
    }
   ],
   "source": [
    "grouped = year_type.groupby([\"TIME_PERIOD: Time Period\", \"REGION: Region\", \"MEASURE: Type of Visa\"])[\"OBS_VALUE\"].sum()\n",
    "grouped_df = grouped.reset_index()\n",
    "grouped_df.head()"
   ]
  },
  {
   "cell_type": "code",
   "execution_count": 43,
   "metadata": {},
   "outputs": [
    {
     "data": {
      "text/html": [
       "<div>\n",
       "<style scoped>\n",
       "    .dataframe tbody tr th:only-of-type {\n",
       "        vertical-align: middle;\n",
       "    }\n",
       "\n",
       "    .dataframe tbody tr th {\n",
       "        vertical-align: top;\n",
       "    }\n",
       "\n",
       "    .dataframe thead th {\n",
       "        text-align: right;\n",
       "    }\n",
       "</style>\n",
       "<table border=\"1\" class=\"dataframe\">\n",
       "  <thead>\n",
       "    <tr style=\"text-align: right;\">\n",
       "      <th></th>\n",
       "      <th>Time Period</th>\n",
       "      <th>Region</th>\n",
       "      <th>Type of Visa</th>\n",
       "      <th>Arrivals</th>\n",
       "    </tr>\n",
       "  </thead>\n",
       "  <tbody>\n",
       "    <tr>\n",
       "      <th>0</th>\n",
       "      <td>2012</td>\n",
       "      <td>1: New South Wales</td>\n",
       "      <td>10: Permanent visa - Family</td>\n",
       "      <td>13120</td>\n",
       "    </tr>\n",
       "    <tr>\n",
       "      <th>1</th>\n",
       "      <td>2012</td>\n",
       "      <td>1: New South Wales</td>\n",
       "      <td>11: Permanent visa - Skill</td>\n",
       "      <td>9440</td>\n",
       "    </tr>\n",
       "    <tr>\n",
       "      <th>2</th>\n",
       "      <td>2012</td>\n",
       "      <td>1: New South Wales</td>\n",
       "      <td>12: Permanent visa - Special Eligibility and h...</td>\n",
       "      <td>2030</td>\n",
       "    </tr>\n",
       "    <tr>\n",
       "      <th>3</th>\n",
       "      <td>2012</td>\n",
       "      <td>1: New South Wales</td>\n",
       "      <td>13: New Zealand Citizen (subclass 444)</td>\n",
       "      <td>11680</td>\n",
       "    </tr>\n",
       "    <tr>\n",
       "      <th>4</th>\n",
       "      <td>2012</td>\n",
       "      <td>1: New South Wales</td>\n",
       "      <td>14: Australian Citizen</td>\n",
       "      <td>27090</td>\n",
       "    </tr>\n",
       "  </tbody>\n",
       "</table>\n",
       "</div>"
      ],
      "text/plain": [
       "   Time Period              Region  \\\n",
       "0         2012  1: New South Wales   \n",
       "1         2012  1: New South Wales   \n",
       "2         2012  1: New South Wales   \n",
       "3         2012  1: New South Wales   \n",
       "4         2012  1: New South Wales   \n",
       "\n",
       "                                        Type of Visa  Arrivals  \n",
       "0                        10: Permanent visa - Family     13120  \n",
       "1                         11: Permanent visa - Skill      9440  \n",
       "2  12: Permanent visa - Special Eligibility and h...      2030  \n",
       "3             13: New Zealand Citizen (subclass 444)     11680  \n",
       "4                             14: Australian Citizen     27090  "
      ]
     },
     "execution_count": 43,
     "metadata": {},
     "output_type": "execute_result"
    }
   ],
   "source": [
    "summary_visa = grouped_df.loc[:, [\"TIME_PERIOD: Time Period\", \"REGION: Region\", \"MEASURE: Type of Visa\", \"OBS_VALUE\"]].rename(columns = {\"TIME_PERIOD: Time Period\": \"Time Period\" , \"REGION: Region\": \"Region\", \"MEASURE: Type of Visa\": \"Type of Visa\", \"OBS_VALUE\": \"Arrivals\"})\n",
    "summary_visa_df = pd.DataFrame(summary_visa)\n",
    "summary_visa_df.head()"
   ]
  },
  {
   "cell_type": "code",
   "execution_count": 50,
   "metadata": {},
   "outputs": [
    {
     "ename": "IndexError",
     "evalue": "list index out of range",
     "output_type": "error",
     "traceback": [
      "\u001b[1;31m---------------------------------------------------------------------------\u001b[0m",
      "\u001b[1;31mIndexError\u001b[0m                                Traceback (most recent call last)",
      "Cell \u001b[1;32mIn[50], line 14\u001b[0m\n\u001b[0;32m     11\u001b[0m     \u001b[39mfor\u001b[39;00m j, visa \u001b[39min\u001b[39;00m \u001b[39menumerate\u001b[39m(subset[\u001b[39m'\u001b[39m\u001b[39mType of Visa\u001b[39m\u001b[39m'\u001b[39m]\u001b[39m.\u001b[39munique()):\n\u001b[0;32m     12\u001b[0m         subsubset \u001b[39m=\u001b[39m subset[subset[\u001b[39m'\u001b[39m\u001b[39mType of Visa\u001b[39m\u001b[39m'\u001b[39m] \u001b[39m==\u001b[39m visa]\n\u001b[1;32m---> 14\u001b[0m         ax\u001b[39m.\u001b[39mplot(subsubset[\u001b[39m'\u001b[39m\u001b[39mArrivals\u001b[39m\u001b[39m'\u001b[39m], color\u001b[39m=\u001b[39mcolors[j], marker\u001b[39m=\u001b[39mmarkers[i], label\u001b[39m=\u001b[39mvisa)\n\u001b[0;32m     16\u001b[0m     ax\u001b[39m.\u001b[39mlegend(loc\u001b[39m=\u001b[39m\u001b[39m'\u001b[39m\u001b[39mupper left\u001b[39m\u001b[39m'\u001b[39m)\n\u001b[0;32m     18\u001b[0m plt\u001b[39m.\u001b[39mshow()\n",
      "\u001b[1;31mIndexError\u001b[0m: list index out of range"
     ]
    },
    {
     "data": {
      "image/png": "[encoded data removed]",
      "text/plain": [
       "<Figure size 640x480 with 1 Axes>"
      ]
     },
     "metadata": {},
     "output_type": "display_data"
    }
   ],
   "source": [
    "fig, ax = plt.subplots()\n",
    "\n",
    "colors = ['red', 'blue', 'green']\n",
    "markers = ['o', 's', '^']\n",
    "\n",
    "# loop through each Region\n",
    "for i, region in enumerate(summary_visa_df['Region'].unique()):\n",
    "    subset = summary_visa_df[summary_visa_df['Region'] == region]\n",
    "\n",
    "       # loop through each Type of Visa in the current Region\n",
    "    for j, visa in enumerate(subset['Type of Visa'].unique()):\n",
    "        subsubset = subset[subset['Type of Visa'] == visa]\n",
    "\n",
    "        ax.plot(subsubset['Arrivals'], color=colors[j], marker=markers[i], label=visa)\n",
    "    \n",
    "    ax.legend(loc='upper left')\n",
    "\n",
    "plt.show()\n",
    "\n",
    "\n"
   ]
  }
 ],
 "metadata": {
  "kernelspec": {
   "display_name": "base",
   "language": "python",
   "name": "python3"
  },
  "language_info": {
   "codemirror_mode": {
    "name": "ipython",
    "version": 3
   },
   "file_extension": ".py",
   "mimetype": "text/x-python",
   "name": "python",
   "nbconvert_exporter": "python",
   "pygments_lexer": "ipython3",
   "version": "3.9.16"
  },
  "orig_nbformat": 4
 },
 "nbformat": 4,
 "nbformat_minor": 2
}
